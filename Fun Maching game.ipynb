{
 "cells": [
  {
   "cell_type": "markdown",
   "id": "finished-transaction",
   "metadata": {},
   "source": [
    "# Matching game"
   ]
  },
  {
   "cell_type": "code",
   "execution_count": 70,
   "id": "consolidated-bulgaria",
   "metadata": {},
   "outputs": [
    {
     "name": "stdout",
     "output_type": "stream",
     "text": [
      "Waffo  matching is  Imaculate\n",
      "Eric  matching is  Lyse\n",
      "Ouraga  matching is  Azza\n",
      "Mohau  matching is  Alaa\n",
      "Waka  matching is  La\n",
      "Elyse  matching is  Nadine\n",
      "Khalid  matching is  Liliane\n",
      "Patrick  matching is  Josiane\n",
      "Julien  matching is  Betty\n",
      "Justin  matching is  Phani\n",
      "Aime  matching is  Console\n",
      "Pierre  matching is  Mercy\n"
     ]
    }
   ],
   "source": [
    "import numpy as np\n",
    "#list of boys\n",
    "dudes=['Eric','Patrick','Pierre','Ouraga','Mohau','Elyse','Khalid','Justin','Julien','Waka','Waffo','Aime']\n",
    "#list of boys\n",
    "bebes=['Imaculate', 'Nadine', 'Mercy','Josiane','Alaa','Lyse','Azza','Console','Phani','La','Betty','Liliane']\n",
    "for i in range(len(bebes)):\n",
    "    a=np.random.randint(len(bebes))\n",
    "    b=np.random.randint(len(dudes))\n",
    "    print(dudes[b],' matching is ',bebes[a])\n",
    "    bebes.remove(bebes[a])\n",
    "    dudes.remove(dudes[b])"
   ]
  },
  {
   "cell_type": "code",
   "execution_count": null,
   "id": "durable-mathematics",
   "metadata": {},
   "outputs": [],
   "source": []
  },
  {
   "cell_type": "code",
   "execution_count": null,
   "id": "interested-registrar",
   "metadata": {},
   "outputs": [],
   "source": []
  }
 ],
 "metadata": {
  "kernelspec": {
   "display_name": "Python 3",
   "language": "python",
   "name": "python3"
  },
  "language_info": {
   "codemirror_mode": {
    "name": "ipython",
    "version": 3
   },
   "file_extension": ".py",
   "mimetype": "text/x-python",
   "name": "python",
   "nbconvert_exporter": "python",
   "pygments_lexer": "ipython3",
   "version": "3.9.2"
  }
 },
 "nbformat": 4,
 "nbformat_minor": 5
}
